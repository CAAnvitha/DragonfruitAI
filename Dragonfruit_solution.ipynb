{
 "cells": [
  {
   "cell_type": "markdown",
   "metadata": {},
   "source": [
    "# Solution\n",
    "\n",
    "Anvitha Chegu Ashokkumar"
   ]
  },
  {
   "cell_type": "markdown",
   "metadata": {},
   "source": [
    "# Answer to Questions given in the challenge\n",
    "\n",
    "**Update to Answer5 based on the query -** <br>\n",
    "Yes, you are right. It would only reduce the size significantly when there is a significant overlap and they merge as we are using RLE encoding where we only store the count of consecutive 1s and their starting indices, instead of storing count of consecutive 0s and consecutive 1s. If we were using the second way of encoding, we won't have to store consecutive 0s twice. But in our approach, the memory saving would not be significant and that too in a rare case. Additionally, it would add complexity in determining the overlap percentage and detecting cancer as the blobs would be merged. \n",
    "\n",
    "So, my initial suggestion that storing the images together would reduce the size was incorrect for the encoding methodology I have used. That was a mistake from my side in the explanation.\n",
    "\n",
    "\n",
    "1. For efficient storage and processing of the micro-organism image, I converted it to a Run Length Encoding (RLE) representation. In RLE, the binary image is represented by the starting index and count of consecutive 1s, which reduces storage space significantly, as large sequences of consecutive 1s (blobs) can be stored using just two integers each. To handle the large image size during RLE conversion, I split the image into 20 chunks of shape (5000, 100000), where each chunk corresponds to 5000 rows. This chunking approach allowed me to fit the large image in memory during the encoding process. The same RLE representation was used for the dye image as well, since RLE stores only the 1s, making it efficient even for sparse images. Both the RLE data structures were stored in JSON files for later retrieval.\n",
    "\n",
    "2. To generate fake simulated images, I utilized Bezier curves, which can create smooth, connected curves of arbitrary shapes. For the microorganism blob, I constructed a sufficiently large Bezier curve that occupied over 25% of the image area to meet the given requirement. For the dye image, I created multiple smaller Bezier curves. Both the microorganism curve and the dye curves were then filled as polygons using the skimage library, converting them into blobs. The initial generation of the fake simulated images was done at a smaller 1000 x 1000 pixel size, after which they were upscaled to the required 100000 x 100000 pixel dimensions using the OpenCV library's resize method.\n",
    "\n",
    "3. The function **has_cancer** operates on the run-length encoded (RLE) representations of the 2 images, which are processed in chunks. It calculates the percentage of the blob area covered by the dye across all chunks. The calculated percentages are then aggregated, and the final result is printed based on a threshold of 10%. If the dye covers more than 10% of the blob area, the micro-organism is classified as having cancer; otherwise, it is classified as not having cancer.\n",
    "\n",
    "4. The implementation can be optimized for faster performance by processing the image chunks in parallel using multiple threads. Once all threads complete their respective chunk computations, the results can be aggregated to produce the final output. Also, decreasing the chunk size would result in a larger number of chunks, enabling better utilization of multiple threads, but it may also lead to a marginal increase in storage requirements. Given the time constraint of 2 hours, I could only implement the single-threaded version of the algorithm. \n",
    "\n",
    "5. Since I worked directly with full-size images (100000 x 100000 pixels) instead of scaled-down versions, the runtime of my code for generating sample images and detecting cancer is around 130 seconds, with the detection part consuming around 70 seconds. Considering the worst-case scenario where the sequence of 1s is only one element long, i.e., alternating 1s and 0s are present in the image, representing the largest index for the last 1, depending on our chunk size of 5000 rows in our implementation would require 29 bits, as the maximum value is 500 million. If we allocate an additional 8 bits for storing the count (which would be 1 in this case, as the 1s alternate with 0s), the total number of bits required per occurrence of 1 would be 37 bits. With a total of (100000 x 100000)/2 = 5 billion occurrences of 1s, the worst-case storage requirement would be approximately 23 GBs approximately, which is higher than 1.25 GBs required for storing the image directly. \n",
    "\n",
    "    But in real world scenarios and given a typical image, a blob would significantly reduce the image size with my implementation. For example, a generated typical image takes about 3 MB to store which approx 400x smaller than the actual image. An alternative compression technique would be to combine both images and then perform RLE encoding, which could significantly reduce the storage space required.\n",
    "\n",
    "6. The tools that I used for the challenge were Stackoverflow, ChatGPT, Claude 3 and Perplexity.ai for checking different techinques to generate random blobs in images. Further, I used OpenCV to do any kind of image processing like scaling. Jupyter notebook along with VSCode was utilized as the coding environment for running the experiments. LLM platforms mentioned above were also helpful in understanding and implementing Run Length Encoding which would be suitable for the given use case. Skiimage libray was used for filling up polygons and matplotlib for plotting images.\n"
   ]
  },
  {
   "cell_type": "code",
   "execution_count": 1,
   "metadata": {},
   "outputs": [],
   "source": [
    "import json\n",
    "import numpy as np\n",
    "\n",
    "from tqdm.notebook import tqdm\n",
    "\n",
    "import matplotlib.pyplot as plt\n",
    "from scipy.special import binom\n",
    "import skimage.draw as draw\n",
    "import cv2"
   ]
  },
  {
   "cell_type": "markdown",
   "metadata": {},
   "source": [
    "# Util functions"
   ]
  },
  {
   "attachments": {},
   "cell_type": "markdown",
   "metadata": {},
   "source": [
    "## Functions for generating random test images of micro organism and dye of size 100000*100000"
   ]
  },
  {
   "cell_type": "markdown",
   "metadata": {},
   "source": [
    "Utilized Bezier curve for generating the images of micro organism blob and dye spread. \n",
    "\n",
    "Microorganism blob is a single shape in the image, whereas dye can be multiple shapes.\n",
    "\n",
    "Reference - [Stackoverflow](https://stackoverflow.com/questions/50731785/create-random-shape-contour-using-matplotlib)"
   ]
  },
  {
   "cell_type": "code",
   "execution_count": 2,
   "metadata": {},
   "outputs": [],
   "source": [
    "bernstein = lambda n, k, t: binom(n,k)* t**k * (1.-t)**(n-k)\n",
    "\n",
    "def bezier(points, num=200):\n",
    "    N = len(points)\n",
    "    t = np.linspace(0, 1, num=num)\n",
    "    curve = np.zeros((num, 2))\n",
    "    for i in range(N):\n",
    "        curve += np.outer(bernstein(N - 1, i, t), points[i])\n",
    "    return curve\n",
    "\n",
    "class Segment():\n",
    "    def __init__(self, p1, p2, angle1, angle2, **kw):\n",
    "        self.p1 = p1; self.p2 = p2\n",
    "        self.angle1 = angle1; self.angle2 = angle2\n",
    "        self.numpoints = kw.get(\"numpoints\", 100)\n",
    "        r = kw.get(\"r\", 0.3)\n",
    "        d = np.sqrt(np.sum((self.p2-self.p1)**2))\n",
    "        self.r = r*d\n",
    "        self.p = np.zeros((4,2))\n",
    "        self.p[0,:] = self.p1[:]\n",
    "        self.p[3,:] = self.p2[:]\n",
    "        self.calc_intermediate_points(self.r)\n",
    "\n",
    "    def calc_intermediate_points(self,r):\n",
    "        self.p[1,:] = self.p1 + np.array([self.r*np.cos(self.angle1),\n",
    "                                    self.r*np.sin(self.angle1)])\n",
    "        self.p[2,:] = self.p2 + np.array([self.r*np.cos(self.angle2+np.pi),\n",
    "                                    self.r*np.sin(self.angle2+np.pi)])\n",
    "        self.curve = bezier(self.p,self.numpoints)\n",
    "\n",
    "\n",
    "def get_curve(points, **kw):\n",
    "    segments = []\n",
    "    for i in range(len(points)-1):\n",
    "        seg = Segment(points[i,:2], points[i+1,:2], points[i,2],points[i+1,2],**kw)\n",
    "        segments.append(seg)\n",
    "    curve = np.concatenate([s.curve for s in segments])\n",
    "    return segments, curve\n",
    "\n",
    "def ccw_sort(p):\n",
    "    d = p-np.mean(p,axis=0)\n",
    "    s = np.arctan2(d[:,0], d[:,1])\n",
    "    return p[np.argsort(s),:]\n",
    "\n",
    "def get_bezier_curve(a, rad=0.2, edgy=0):\n",
    "    \"\"\" given an array of points [a], create a curve through\n",
    "    those points. \n",
    "    rad = is a number between 0 and 1 to steer the distance of\n",
    "          control points.\n",
    "    edgy = controls the smoothness of the curve, with edgy=0 being the smoothest.\n",
    "    \"\"\"\n",
    "    p = np.arctan(edgy)/np.pi+.5\n",
    "    a = ccw_sort(a)\n",
    "    a = np.append(a, np.atleast_2d(a[0,:]), axis=0)\n",
    "    d = np.diff(a, axis=0)\n",
    "    ang = np.arctan2(d[:,1],d[:,0])\n",
    "    f = lambda ang : (ang>=0)*ang + (ang<0)*(ang+2*np.pi)\n",
    "    ang = f(ang)\n",
    "    ang1 = ang\n",
    "    ang2 = np.roll(ang,1)\n",
    "    ang = p*ang1 + (1-p)*ang2 + (np.abs(ang2-ang1) > np.pi )*np.pi\n",
    "    ang = np.append(ang, [ang[0]])\n",
    "    a = np.append(a, np.atleast_2d(ang).T, axis=1)\n",
    "    s, c = get_curve(a, r=rad, method=\"var\")\n",
    "    x,y = c.T\n",
    "    return x,y, a\n",
    "\n",
    "\n",
    "def get_random_points(n=5, scale=0.8, mindst=None, rec=0):\n",
    "    \"\"\" create n random points in the unit square, which are *mindst*\n",
    "    apart, then scale them.\"\"\"\n",
    "    mindst = mindst or .7/n\n",
    "    a = np.random.rand(n,2)\n",
    "    d = np.sqrt(np.sum(np.diff(ccw_sort(a), axis=0), axis=1)**2)\n",
    "    if np.all(d >= mindst) or rec>=200:\n",
    "        return a*scale\n",
    "    else:\n",
    "        return get_random_points(n=n, scale=scale, mindst=mindst, rec=rec+1)"
   ]
  },
  {
   "cell_type": "code",
   "execution_count": 3,
   "metadata": {},
   "outputs": [],
   "source": [
    "def augment_img_with_shapes(image, scale, c, rad, edgy, shape):\n",
    "    a = get_random_points(n=7, scale=scale) + c\n",
    "    x,y, _ = get_bezier_curve(a,rad=rad, edgy=edgy)\n",
    "    rr, cc = draw.polygon(x, y, shape=shape)\n",
    "    image[rr, cc] = 1\n",
    "\n",
    "    return image"
   ]
  },
  {
   "attachments": {},
   "cell_type": "markdown",
   "metadata": {},
   "source": [
    "### Function for generating an image with a blob of the micro organism."
   ]
  },
  {
   "cell_type": "markdown",
   "metadata": {},
   "source": [
    "Steps - \n",
    "1. Generate the bezier curve for the migroorganism blob using a set of 2d coordinates.\n",
    "2. Fill the curve as a polygon."
   ]
  },
  {
   "cell_type": "code",
   "execution_count": 4,
   "metadata": {},
   "outputs": [],
   "source": [
    "def get_random_microorganism_image():\n",
    "    \"\"\"\n",
    "    Returns an image with a randomly generated blob representing micro organism body.\n",
    "    draw.polygon is used to form a filled polygon from the bezier curve recieved as 2d coordinates.\n",
    "\n",
    "    The image is generated first is of size 1000*1000 which is then scaled up to 100000*100000 using cv2. This helps in efficiently generating testing samples.\n",
    "    \"\"\"\n",
    "    rad = 0.2\n",
    "    edgy = 0.05\n",
    "    shape = (1000, 1000)\n",
    "    image = np.zeros(shape, dtype=np.uint8)\n",
    "    c = [0,0]\n",
    "\n",
    "    image = augment_img_with_shapes(image, shape[0], c, rad, edgy, shape)\n",
    "    image = cv2.resize(image, dsize=(100000, 100000), interpolation=cv2.INTER_LINEAR)\n",
    "\n",
    "    return image"
   ]
  },
  {
   "attachments": {},
   "cell_type": "markdown",
   "metadata": {},
   "source": [
    "### Function for generating an image with several small blobs representing dye spread using Bezier curve."
   ]
  },
  {
   "cell_type": "markdown",
   "metadata": {},
   "source": [
    "Steps - \n",
    "1. Choose a random number of blobs to generate between 3 and 10.\n",
    "2. Generate a set of random points for each one of them.\n",
    "3. Generate the bezier curve for each set of random points which will represent the dye spread.\n",
    "4. Fill each one of them as polygons."
   ]
  },
  {
   "cell_type": "code",
   "execution_count": 5,
   "metadata": {},
   "outputs": [],
   "source": [
    "def get_dye_image(scale=100):\n",
    "    \"\"\"\n",
    "    Returns an image with randomly generated blobs representing dye spread.\n",
    "    The method randomly generates between 3 to 10 datapoints that serve as center for the blobs to be generated.\n",
    "    draw.polygon is used to form a filled polygon from the bezier curve recieved as 2d coordinates.\n",
    "\n",
    "    The image is generated first is of size 1000*1000 which is then scaled up to 100000*100000 using cv2. This helps in efficiently generating testing samples.\n",
    "\n",
    "    scale = Scale parameter controls the size of the blob which will help for testing with different percentage of dye spread in the micro organism.\n",
    "    \"\"\"\n",
    "    rad = 0.2\n",
    "    edgy = 0.05\n",
    "    shape = (1000, 1000)\n",
    "    image = np.zeros((1000, 1000), dtype=np.uint8)\n",
    "    num_elements = np.random.randint(3, 10)\n",
    "    cs = np.random.rand(num_elements, 2) * 1000\n",
    "    for c in cs:\n",
    "        image = augment_img_with_shapes(image, scale, c, rad, edgy, shape)\n",
    "\n",
    "    image = cv2.resize(image, dsize=(100000, 100000), interpolation=cv2.INTER_LINEAR)\n",
    "    return image\n"
   ]
  },
  {
   "attachments": {},
   "cell_type": "markdown",
   "metadata": {},
   "source": [
    "### Fucntions for encoding and decoding images using Run Length Encoding. \n",
    "I use a variation of RLE where we only store consecutive 1s as count and their starting index, removing 0s completely. \n",
    "\n",
    "This method also helps in storing sparse matrices efficiently."
   ]
  },
  {
   "cell_type": "code",
   "execution_count": 6,
   "metadata": {},
   "outputs": [],
   "source": [
    "def rle_encode_image(mask):\n",
    "    '''\n",
    "    mask: image as binary mask --> 1 - mask (blob), 0 - background\n",
    "    \n",
    "    Returns encoded image \n",
    "    '''\n",
    "    pxls = mask.flatten()\n",
    "    pxls = np.concatenate([[0], pxls, [0]])\n",
    "    seqs = np.where(pxls[1:] != pxls[:-1])[0] + 1\n",
    "    seqs[1::2] -= seqs[::2]\n",
    "    return ' '.join(str(seq) for seq in seqs)\n"
   ]
  },
  {
   "cell_type": "code",
   "execution_count": 7,
   "metadata": {},
   "outputs": [],
   "source": [
    "def decode_rle_image(rle_image, h, w):\n",
    "    '''\n",
    "    rle_image: rle encodded image as formatted string (start index, count of consecutive 1s following the index)\n",
    "    h: height of the mask \n",
    "    w: width of the mask\n",
    "    returns decode image\n",
    "    '''\n",
    "    rle_image = np.array(rle_image.split(' ')).reshape(-1, 2)\n",
    "    img = np.zeros((h*w))\n",
    "\n",
    "    for i in rle_image:\n",
    "        img[int(i[0]):int(i[0])+int(i[1])] = 1\n",
    "\n",
    "    return img.reshape(h, w)"
   ]
  },
  {
   "attachments": {},
   "cell_type": "markdown",
   "metadata": {},
   "source": [
    "## Splitting images into chunks for efficient processing\n",
    "\n",
    "Due to resource constraints and the need for faster processing, I am splitting the images down into chunks of IMG_CHNK_SIZE * 100000. Selecting a chunk size of 5000, the image is divided into 20 chunks, each comprising 5000 rows and 100000 columns. This approach helps in efficiently processing the images for cancer detection in the parasite. Although, it slightly increases the storage size, it significantly enhances the processing speed and also reduces the RAM requirements. Moreover, this approach can further help in parallelization later, as separate chunks can be processed in parallel using multiple threads."
   ]
  },
  {
   "cell_type": "code",
   "execution_count": 8,
   "metadata": {},
   "outputs": [],
   "source": [
    "IMG_CHNK_SIZE = 5000"
   ]
  },
  {
   "attachments": {},
   "cell_type": "markdown",
   "metadata": {},
   "source": [
    "### Funciton for RLE encoding image chunk by chunk."
   ]
  },
  {
   "cell_type": "code",
   "execution_count": 9,
   "metadata": {},
   "outputs": [],
   "source": [
    "def chunk_and_rle_encode(img):\n",
    "    \"\"\"\n",
    "    image: input image of shape 100000*100000 \n",
    "    \n",
    "    Splits input image into into chunks of size IMG_CHNK_SIZE*100000 \n",
    "    Each chunk is encoded iteratively using RLE.\n",
    "    \n",
    "    Returns a list of RLE encoded chunks.\n",
    "    \"\"\"\n",
    "    chunked_rle_encodings = []\n",
    "    for i in tqdm(range(0, 100000, IMG_CHNK_SIZE)):\n",
    "        chunked_rle_encodings.append(rle_encode_image(img[i:i+IMG_CHNK_SIZE]))\n",
    "    return chunked_rle_encodings"
   ]
  },
  {
   "attachments": {},
   "cell_type": "markdown",
   "metadata": {},
   "source": [
    "### Masking\n",
    "Takes to corresponding chunks from blob image and dye image and applies the first chunk as mask for the second image. This ensures that any dye which is outside the blob is not considere.\n",
    "Then it calculates the percentage of area in the chunk covered by the blob and percentage of area in the chunk covered by the newly masked dye and returns these 2 values.\n",
    "\n",
    "Both the the chunks correspond to the same number of rows in the images."
   ]
  },
  {
   "cell_type": "code",
   "execution_count": 10,
   "metadata": {},
   "outputs": [],
   "source": [
    "def mask_chunk(img_mask_chunk, dye_mask_chunk):\n",
    "    \"\"\"\n",
    "    img_mask_chunk: image chunk of size IMG_CHNK_SIZE*100000 for microorganism image\n",
    "    dye_mask_chunk: dye chunk of size IMG_CHNK_SIZE*100000 for dye image (corresponds to the same region)\n",
    "    \n",
    "    The image chunks correspond to the same row indices in their respective images.\n",
    "\n",
    "    Compares the 2 input image chunks by applying the blob chunk as mask on the dye chunk.\n",
    "    This eliminates any leaked dyes outside the microorganism blob.\n",
    "    \n",
    "    Calculates the percentage of area covered by blob in its chunk\n",
    "    Calculates the percentage of area covered by dye in its chunk after masking.\n",
    "\n",
    "    returns the above 2 percentatges.\n",
    "    \"\"\"\n",
    "    msk1, msk2 = img_mask_chunk, dye_mask_chunk\n",
    "    masked_msk2 = np.where(msk1 == 1, msk2, 0)\n",
    "    per_msk1 = np.count_nonzero(msk1 == 1) / msk1.size * 100\n",
    "    per_msk2 = np.count_nonzero(masked_msk2 == 1) / masked_msk2.size * 100\n",
    "    return per_msk1, per_msk2"
   ]
  },
  {
   "cell_type": "markdown",
   "metadata": {},
   "source": [
    "## Function for checking if parasite has cancer or not.\n",
    "\n",
    "Takes the 2 rle encoded images as input.\n",
    "\n",
    "To process the images, we iterate over the lists together, taking encodings for the same row indices chunks for both the images and decode them. \n",
    "\n",
    "After decoding the chunk encodings, we utilize the mask_chunk method to obtain the percentages of areas covered by the blob in the chunk and the dye in the chunk that falls within the blob area. \n",
    "\n",
    "Once the percentages have been calculated for all the chunks, we sum the percentages for both images and normalize the result by the number of chunks. \n",
    "\n",
    "The first percentage represents the proportion of the image area covered by the blob. \n",
    "\n",
    "The second percentage, divided by the first one, gives us the percentage of the area covered by the dye within the blob region."
   ]
  },
  {
   "cell_type": "code",
   "execution_count": 17,
   "metadata": {},
   "outputs": [],
   "source": [
    "def has_cancer(rle_encoded_img, rle_encoded_dye):\n",
    "    \"\"\"\n",
    "    rle_encoded_img: rle encoded chunks of microorganism image\n",
    "    rle_encoded_dye: rle encoded chunks of dye image\n",
    "\n",
    "\n",
    "    Prints the results and checks if dye covered area of blob is greater than threshold of 10 to check whether microorganism has cancer or not.\n",
    "    \"\"\"\n",
    "    prcntg_list_1 = []\n",
    "    prcntg_list_2 = []\n",
    "    for i, (rle_image, rle_dye) in enumerate(tqdm(zip(rle_encoded_img, rle_encoded_dye), total=len(rle_encoded_img))):\n",
    "        if rle_image != '':\n",
    "            img_chunk_msk = decode_rle_image(rle_image, IMG_CHNK_SIZE, 100000)\n",
    "            dye_chunk_msk = np.zeros((IMG_CHNK_SIZE, 100000))\n",
    "            if rle_dye != '':\n",
    "                dye_chunk_msk = decode_rle_image(rle_dye, IMG_CHNK_SIZE, 100000)\n",
    "\n",
    "            prcntg_msk_1, prcntg_msk_2 = mask_chunk(img_chunk_msk, dye_chunk_msk)\n",
    "            prcntg_list_1.append(prcntg_msk_1)\n",
    "            prcntg_list_2.append(prcntg_msk_2)\n",
    "        else:\n",
    "            prcntg_list_1.append(0)\n",
    "            prcntg_list_2.append(0)\n",
    "\n",
    "        # decoded_image[start:end] = mask\n",
    "    blob_prcntg = sum(prcntg_list_1)/len(rle_encoded_img)\n",
    "    dye_prctng = sum(prcntg_list_2)/len(rle_encoded_img)\n",
    "    cancer_prcntg = dye_prctng/blob_prcntg*100\n",
    "\n",
    "    print(f\"Area in the image covered by blob: {blob_prcntg}%\")\n",
    "    print(f\"Area of the blob where dye has spread: {cancer_prcntg}%\")\n",
    "    print(f\"Parasite has cancer? {cancer_prcntg > 10}\")"
   ]
  },
  {
   "attachments": {},
   "cell_type": "markdown",
   "metadata": {},
   "source": [
    "## Testing on simulated images"
   ]
  },
  {
   "cell_type": "markdown",
   "metadata": {},
   "source": [
    "Display size of images are 10000 * 10000. \n",
    "\n",
    "All processing of image is done on full size of 100000 * 100000."
   ]
  },
  {
   "cell_type": "code",
   "execution_count": 18,
   "metadata": {},
   "outputs": [],
   "source": [
    "def process_parasite_file(img_id):\n",
    "    data = json.load(open(f'rle_img_{img_id}.json'))\n",
    "    rle_encodings_img, rle_encodings_dye = data['blob'], data['dye']\n",
    "    has_cancer(rle_encodings_img, rle_encodings_dye)"
   ]
  },
  {
   "attachments": {},
   "cell_type": "markdown",
   "metadata": {},
   "source": [
    "### Test 1 - No cancer in parasite"
   ]
  },
  {
   "cell_type": "code",
   "execution_count": 19,
   "metadata": {},
   "outputs": [
    {
     "name": "stdout",
     "output_type": "stream",
     "text": [
      "Shape of blob img: (100000, 100000)\n",
      "Shape of dye img: (100000, 100000)\n"
     ]
    },
    {
     "data": {
      "image/png": "[encoded data removed]",
      "text/plain": [
       "<Figure size 1000x2000 with 2 Axes>"
      ]
     },
     "metadata": {},
     "output_type": "display_data"
    },
    {
     "name": "stdout",
     "output_type": "stream",
     "text": [
      "\n"
     ]
    },
    {
     "data": {
      "application/vnd.jupyter.widget-view+json": {
       "model_id": "39411e6011974c1faa11a919c7a1cdbe",
       "version_major": 2,
       "version_minor": 0
      },
      "text/plain": [
       "  0%|          | 0/20 [00:00<?, ?it/s]"
      ]
     },
     "metadata": {},
     "output_type": "display_data"
    },
    {
     "data": {
      "application/vnd.jupyter.widget-view+json": {
       "model_id": "84a5436b72f642c6aa68cce6eb46e348",
       "version_major": 2,
       "version_minor": 0
      },
      "text/plain": [
       "  0%|          | 0/20 [00:00<?, ?it/s]"
      ]
     },
     "metadata": {},
     "output_type": "display_data"
    }
   ],
   "source": [
    "img_id = 1\n",
    "\n",
    "fig, axes = plt.subplots(1, 2, figsize=(10, 20))\n",
    "\n",
    "img = get_random_microorganism_image()\n",
    "axes[0].imshow(cv2.bitwise_not(cv2.resize(img, dsize=(10000, 10000), interpolation=cv2.INTER_LINEAR)), cmap='gray')\n",
    "\n",
    "img_dye = get_dye_image()\n",
    "axes[1].imshow(cv2.bitwise_not(cv2.resize(img_dye, dsize=(10000, 10000), interpolation=cv2.INTER_LINEAR)), cmap='gray')\n",
    "\n",
    "print(f\"Shape of blob img: {img.shape}\")\n",
    "print(f\"Shape of dye img: {img_dye.shape}\")\n",
    "plt.show()\n",
    "\n",
    "print()\n",
    "rle_encodings_img = chunk_and_rle_encode(img)\n",
    "rle_encodings_dye = chunk_and_rle_encode(img_dye)\n",
    "\n",
    "data = {\n",
    "    'blob': rle_encodings_img,\n",
    "    'dye': rle_encodings_dye\n",
    "}\n",
    "json.dump(data, open(f'rle_img_{img_id}.json', 'w'))"
   ]
  },
  {
   "cell_type": "markdown",
   "metadata": {},
   "source": [
    "Loading stored encoded images from disk for detecting cancer."
   ]
  },
  {
   "cell_type": "code",
   "execution_count": 20,
   "metadata": {},
   "outputs": [
    {
     "data": {
      "application/vnd.jupyter.widget-view+json": {
       "model_id": "3d5bd82c7a954b5ca9e2f31ee1155e76",
       "version_major": 2,
       "version_minor": 0
      },
      "text/plain": [
       "  0%|          | 0/20 [00:00<?, ?it/s]"
      ]
     },
     "metadata": {},
     "output_type": "display_data"
    },
    {
     "name": "stdout",
     "output_type": "stream",
     "text": [
      "Area in the image covered by blob: 25.811784010000004%\n",
      "Area of the blob where dye has spread: 1.7762314291115127%\n",
      "Parasite has cancer? False\n"
     ]
    }
   ],
   "source": [
    "process_parasite_file(img_id)"
   ]
  },
  {
   "cell_type": "markdown",
   "metadata": {},
   "source": [
    "### Test case 2 - Cancer in parasite.\n",
    "\n",
    "Note: I try to generate large enough dye blobs so that they cover more than 10% of the microogranism and hence, cancer is detected for this case. But it can be the case in a rare scenario that the covered region randomly generated is less than 10%"
   ]
  },
  {
   "cell_type": "code",
   "execution_count": 21,
   "metadata": {},
   "outputs": [
    {
     "name": "stdout",
     "output_type": "stream",
     "text": [
      "Shape of blob img: (100000, 100000)\n",
      "Shape of dye img: (100000, 100000)\n"
     ]
    },
    {
     "data": {
      "image/png": "[encoded data removed]",
      "text/plain": [
       "<Figure size 1000x2000 with 2 Axes>"
      ]
     },
     "metadata": {},
     "output_type": "display_data"
    },
    {
     "name": "stdout",
     "output_type": "stream",
     "text": [
      "\n"
     ]
    },
    {
     "data": {
      "application/vnd.jupyter.widget-view+json": {
       "model_id": "8e20725460b0484490ef1c80cb6ae1d9",
       "version_major": 2,
       "version_minor": 0
      },
      "text/plain": [
       "  0%|          | 0/20 [00:00<?, ?it/s]"
      ]
     },
     "metadata": {},
     "output_type": "display_data"
    },
    {
     "data": {
      "application/vnd.jupyter.widget-view+json": {
       "model_id": "57ef2f3a66b1494b9b52601e3bb2331d",
       "version_major": 2,
       "version_minor": 0
      },
      "text/plain": [
       "  0%|          | 0/20 [00:00<?, ?it/s]"
      ]
     },
     "metadata": {},
     "output_type": "display_data"
    }
   ],
   "source": [
    "img_id = 2\n",
    "\n",
    "fig, axes = plt.subplots(1, 2, figsize=(10, 20))\n",
    "\n",
    "img = get_random_microorganism_image()\n",
    "axes[0].imshow(cv2.bitwise_not(cv2.resize(img, dsize=(10000, 10000), interpolation=cv2.INTER_LINEAR)), cmap='gray')\n",
    "\n",
    "# increasing scale to generate bigger dye spreads for positive cancer case\n",
    "img_dye = get_dye_image(scale=400)\n",
    "axes[1].imshow(cv2.bitwise_not(cv2.resize(img_dye, dsize=(10000, 10000), interpolation=cv2.INTER_LINEAR)), cmap='gray')\n",
    "\n",
    "print(f\"Shape of blob img: {img.shape}\")\n",
    "print(f\"Shape of dye img: {img_dye.shape}\")\n",
    "plt.show()\n",
    "\n",
    "print()\n",
    "rle_encodings_img = chunk_and_rle_encode(img)\n",
    "rle_encodings_dye = chunk_and_rle_encode(img_dye)\n",
    "\n",
    "data = {\n",
    "    'blob': rle_encodings_img,\n",
    "    'dye': rle_encodings_dye\n",
    "}\n",
    "json.dump(data, open(f'rle_img_{img_id}.json', 'w'))"
   ]
  },
  {
   "cell_type": "code",
   "execution_count": 22,
   "metadata": {},
   "outputs": [
    {
     "data": {
      "application/vnd.jupyter.widget-view+json": {
       "model_id": "2ae70ba044fa4db7a3c99a62289b0059",
       "version_major": 2,
       "version_minor": 0
      },
      "text/plain": [
       "  0%|          | 0/20 [00:00<?, ?it/s]"
      ]
     },
     "metadata": {},
     "output_type": "display_data"
    },
    {
     "name": "stdout",
     "output_type": "stream",
     "text": [
      "Area in the image covered by blob: 51.805642920000004%\n",
      "Area of the blob where dye has spread: 16.251831953907924%\n",
      "Parasite has cancer? True\n"
     ]
    }
   ],
   "source": [
    "process_parasite_file(img_id)"
   ]
  }
 ],
 "metadata": {
  "kernelspec": {
   "display_name": "py11-env",
   "language": "python",
   "name": "python3"
  },
  "language_info": {
   "codemirror_mode": {
    "name": "ipython",
    "version": 3
   },
   "file_extension": ".py",
   "mimetype": "text/x-python",
   "name": "python",
   "nbconvert_exporter": "python",
   "pygments_lexer": "ipython3",
   "version": "3.9.12"
  },
  "orig_nbformat": 4
 },
 "nbformat": 4,
 "nbformat_minor": 2
}
